{
 "cells": [
  {
   "cell_type": "code",
   "execution_count": 1,
   "id": "c5015297",
   "metadata": {},
   "outputs": [],
   "source": [
    "import pandas as pd\n",
    "import numpy as np\n",
    "import matplotlib.pyplot as plt\n",
    "import seaborn as sns"
   ]
  },
  {
   "cell_type": "code",
   "execution_count": 2,
   "id": "acaa6eb8",
   "metadata": {},
   "outputs": [],
   "source": [
    "df=pd.read_csv(r'C:\\Users\\RISHU YADAV\\Downloads\\data.csv\\data.csv')"
   ]
  },
  {
   "cell_type": "code",
   "execution_count": 3,
   "id": "1264e306",
   "metadata": {},
   "outputs": [
    {
     "data": {
      "text/html": [
       "<div>\n",
       "<style scoped>\n",
       "    .dataframe tbody tr th:only-of-type {\n",
       "        vertical-align: middle;\n",
       "    }\n",
       "\n",
       "    .dataframe tbody tr th {\n",
       "        vertical-align: top;\n",
       "    }\n",
       "\n",
       "    .dataframe thead th {\n",
       "        text-align: right;\n",
       "    }\n",
       "</style>\n",
       "<table border=\"1\" class=\"dataframe\">\n",
       "  <thead>\n",
       "    <tr style=\"text-align: right;\">\n",
       "      <th></th>\n",
       "      <th>id</th>\n",
       "      <th>year</th>\n",
       "      <th>institute_type</th>\n",
       "      <th>round_no</th>\n",
       "      <th>quota</th>\n",
       "      <th>pool</th>\n",
       "      <th>institute_short</th>\n",
       "      <th>program_name</th>\n",
       "      <th>program_duration</th>\n",
       "      <th>degree_short</th>\n",
       "      <th>category</th>\n",
       "      <th>opening_rank</th>\n",
       "      <th>closing_rank</th>\n",
       "      <th>is_preparatory</th>\n",
       "    </tr>\n",
       "  </thead>\n",
       "  <tbody>\n",
       "    <tr>\n",
       "      <th>0</th>\n",
       "      <td>1</td>\n",
       "      <td>2016</td>\n",
       "      <td>IIT</td>\n",
       "      <td>6</td>\n",
       "      <td>AI</td>\n",
       "      <td>Gender-Neutral</td>\n",
       "      <td>IIT-Bombay</td>\n",
       "      <td>Aerospace Engineering</td>\n",
       "      <td>4 Years</td>\n",
       "      <td>B.Tech</td>\n",
       "      <td>GEN</td>\n",
       "      <td>838</td>\n",
       "      <td>1841</td>\n",
       "      <td>0</td>\n",
       "    </tr>\n",
       "    <tr>\n",
       "      <th>1</th>\n",
       "      <td>2</td>\n",
       "      <td>2016</td>\n",
       "      <td>IIT</td>\n",
       "      <td>6</td>\n",
       "      <td>AI</td>\n",
       "      <td>Gender-Neutral</td>\n",
       "      <td>IIT-Bombay</td>\n",
       "      <td>Aerospace Engineering</td>\n",
       "      <td>4 Years</td>\n",
       "      <td>B.Tech</td>\n",
       "      <td>OBC-NCL</td>\n",
       "      <td>408</td>\n",
       "      <td>1098</td>\n",
       "      <td>0</td>\n",
       "    </tr>\n",
       "    <tr>\n",
       "      <th>2</th>\n",
       "      <td>3</td>\n",
       "      <td>2016</td>\n",
       "      <td>IIT</td>\n",
       "      <td>6</td>\n",
       "      <td>AI</td>\n",
       "      <td>Gender-Neutral</td>\n",
       "      <td>IIT-Bombay</td>\n",
       "      <td>Aerospace Engineering</td>\n",
       "      <td>4 Years</td>\n",
       "      <td>B.Tech</td>\n",
       "      <td>SC</td>\n",
       "      <td>297</td>\n",
       "      <td>468</td>\n",
       "      <td>0</td>\n",
       "    </tr>\n",
       "    <tr>\n",
       "      <th>3</th>\n",
       "      <td>4</td>\n",
       "      <td>2016</td>\n",
       "      <td>IIT</td>\n",
       "      <td>6</td>\n",
       "      <td>AI</td>\n",
       "      <td>Gender-Neutral</td>\n",
       "      <td>IIT-Bombay</td>\n",
       "      <td>Aerospace Engineering</td>\n",
       "      <td>4 Years</td>\n",
       "      <td>B.Tech</td>\n",
       "      <td>ST</td>\n",
       "      <td>79</td>\n",
       "      <td>145</td>\n",
       "      <td>0</td>\n",
       "    </tr>\n",
       "    <tr>\n",
       "      <th>4</th>\n",
       "      <td>5</td>\n",
       "      <td>2016</td>\n",
       "      <td>IIT</td>\n",
       "      <td>6</td>\n",
       "      <td>AI</td>\n",
       "      <td>Gender-Neutral</td>\n",
       "      <td>IIT-Bombay</td>\n",
       "      <td>Aerospace Engineering</td>\n",
       "      <td>4 Years</td>\n",
       "      <td>B.Tech</td>\n",
       "      <td>GEN-PWD</td>\n",
       "      <td>94</td>\n",
       "      <td>94</td>\n",
       "      <td>0</td>\n",
       "    </tr>\n",
       "    <tr>\n",
       "      <th>...</th>\n",
       "      <td>...</td>\n",
       "      <td>...</td>\n",
       "      <td>...</td>\n",
       "      <td>...</td>\n",
       "      <td>...</td>\n",
       "      <td>...</td>\n",
       "      <td>...</td>\n",
       "      <td>...</td>\n",
       "      <td>...</td>\n",
       "      <td>...</td>\n",
       "      <td>...</td>\n",
       "      <td>...</td>\n",
       "      <td>...</td>\n",
       "      <td>...</td>\n",
       "    </tr>\n",
       "    <tr>\n",
       "      <th>64953</th>\n",
       "      <td>31136</td>\n",
       "      <td>2021</td>\n",
       "      <td>NIT</td>\n",
       "      <td>1</td>\n",
       "      <td>JK</td>\n",
       "      <td>Female-Only</td>\n",
       "      <td>NIT-Srinagar</td>\n",
       "      <td>Electronics and Communication Engineering</td>\n",
       "      <td>4 Years</td>\n",
       "      <td>B.Tech</td>\n",
       "      <td>SC</td>\n",
       "      <td>14185</td>\n",
       "      <td>24048</td>\n",
       "      <td>0</td>\n",
       "    </tr>\n",
       "    <tr>\n",
       "      <th>64954</th>\n",
       "      <td>31137</td>\n",
       "      <td>2021</td>\n",
       "      <td>NIT</td>\n",
       "      <td>1</td>\n",
       "      <td>JK</td>\n",
       "      <td>Gender-Neutral</td>\n",
       "      <td>NIT-Srinagar</td>\n",
       "      <td>Electronics and Communication Engineering</td>\n",
       "      <td>4 Years</td>\n",
       "      <td>B.Tech</td>\n",
       "      <td>ST</td>\n",
       "      <td>2736</td>\n",
       "      <td>4171</td>\n",
       "      <td>0</td>\n",
       "    </tr>\n",
       "    <tr>\n",
       "      <th>64955</th>\n",
       "      <td>31138</td>\n",
       "      <td>2021</td>\n",
       "      <td>NIT</td>\n",
       "      <td>1</td>\n",
       "      <td>JK</td>\n",
       "      <td>Female-Only</td>\n",
       "      <td>NIT-Srinagar</td>\n",
       "      <td>Electronics and Communication Engineering</td>\n",
       "      <td>4 Years</td>\n",
       "      <td>B.Tech</td>\n",
       "      <td>ST</td>\n",
       "      <td>10870</td>\n",
       "      <td>10870</td>\n",
       "      <td>0</td>\n",
       "    </tr>\n",
       "    <tr>\n",
       "      <th>64956</th>\n",
       "      <td>31139</td>\n",
       "      <td>2021</td>\n",
       "      <td>NIT</td>\n",
       "      <td>1</td>\n",
       "      <td>LA</td>\n",
       "      <td>Gender-Neutral</td>\n",
       "      <td>NIT-Srinagar</td>\n",
       "      <td>Electronics and Communication Engineering</td>\n",
       "      <td>4 Years</td>\n",
       "      <td>B.Tech</td>\n",
       "      <td>GEN</td>\n",
       "      <td>166453</td>\n",
       "      <td>265454</td>\n",
       "      <td>0</td>\n",
       "    </tr>\n",
       "    <tr>\n",
       "      <th>64957</th>\n",
       "      <td>31140</td>\n",
       "      <td>2021</td>\n",
       "      <td>NIT</td>\n",
       "      <td>1</td>\n",
       "      <td>LA</td>\n",
       "      <td>Female-Only</td>\n",
       "      <td>NIT-Srinagar</td>\n",
       "      <td>Electronics and Communication Engineering</td>\n",
       "      <td>4 Years</td>\n",
       "      <td>B.Tech</td>\n",
       "      <td>GEN</td>\n",
       "      <td>215054</td>\n",
       "      <td>215054</td>\n",
       "      <td>0</td>\n",
       "    </tr>\n",
       "  </tbody>\n",
       "</table>\n",
       "<p>64958 rows × 14 columns</p>\n",
       "</div>"
      ],
      "text/plain": [
       "          id  year institute_type  round_no quota            pool  \\\n",
       "0          1  2016            IIT         6    AI  Gender-Neutral   \n",
       "1          2  2016            IIT         6    AI  Gender-Neutral   \n",
       "2          3  2016            IIT         6    AI  Gender-Neutral   \n",
       "3          4  2016            IIT         6    AI  Gender-Neutral   \n",
       "4          5  2016            IIT         6    AI  Gender-Neutral   \n",
       "...      ...   ...            ...       ...   ...             ...   \n",
       "64953  31136  2021            NIT         1    JK     Female-Only   \n",
       "64954  31137  2021            NIT         1    JK  Gender-Neutral   \n",
       "64955  31138  2021            NIT         1    JK     Female-Only   \n",
       "64956  31139  2021            NIT         1    LA  Gender-Neutral   \n",
       "64957  31140  2021            NIT         1    LA     Female-Only   \n",
       "\n",
       "      institute_short                               program_name  \\\n",
       "0          IIT-Bombay                      Aerospace Engineering   \n",
       "1          IIT-Bombay                      Aerospace Engineering   \n",
       "2          IIT-Bombay                      Aerospace Engineering   \n",
       "3          IIT-Bombay                      Aerospace Engineering   \n",
       "4          IIT-Bombay                      Aerospace Engineering   \n",
       "...               ...                                        ...   \n",
       "64953    NIT-Srinagar  Electronics and Communication Engineering   \n",
       "64954    NIT-Srinagar  Electronics and Communication Engineering   \n",
       "64955    NIT-Srinagar  Electronics and Communication Engineering   \n",
       "64956    NIT-Srinagar  Electronics and Communication Engineering   \n",
       "64957    NIT-Srinagar  Electronics and Communication Engineering   \n",
       "\n",
       "      program_duration degree_short category  opening_rank  closing_rank  \\\n",
       "0              4 Years       B.Tech      GEN           838          1841   \n",
       "1              4 Years       B.Tech  OBC-NCL           408          1098   \n",
       "2              4 Years       B.Tech       SC           297           468   \n",
       "3              4 Years       B.Tech       ST            79           145   \n",
       "4              4 Years       B.Tech  GEN-PWD            94            94   \n",
       "...                ...          ...      ...           ...           ...   \n",
       "64953          4 Years       B.Tech       SC         14185         24048   \n",
       "64954          4 Years       B.Tech       ST          2736          4171   \n",
       "64955          4 Years       B.Tech       ST         10870         10870   \n",
       "64956          4 Years       B.Tech      GEN        166453        265454   \n",
       "64957          4 Years       B.Tech      GEN        215054        215054   \n",
       "\n",
       "       is_preparatory  \n",
       "0                   0  \n",
       "1                   0  \n",
       "2                   0  \n",
       "3                   0  \n",
       "4                   0  \n",
       "...               ...  \n",
       "64953               0  \n",
       "64954               0  \n",
       "64955               0  \n",
       "64956               0  \n",
       "64957               0  \n",
       "\n",
       "[64958 rows x 14 columns]"
      ]
     },
     "execution_count": 3,
     "metadata": {},
     "output_type": "execute_result"
    }
   ],
   "source": [
    "df"
   ]
  },
  {
   "cell_type": "code",
   "execution_count": 4,
   "id": "a51cc81c",
   "metadata": {},
   "outputs": [
    {
     "data": {
      "text/html": [
       "<div>\n",
       "<style scoped>\n",
       "    .dataframe tbody tr th:only-of-type {\n",
       "        vertical-align: middle;\n",
       "    }\n",
       "\n",
       "    .dataframe tbody tr th {\n",
       "        vertical-align: top;\n",
       "    }\n",
       "\n",
       "    .dataframe thead th {\n",
       "        text-align: right;\n",
       "    }\n",
       "</style>\n",
       "<table border=\"1\" class=\"dataframe\">\n",
       "  <thead>\n",
       "    <tr style=\"text-align: right;\">\n",
       "      <th></th>\n",
       "      <th>id</th>\n",
       "      <th>year</th>\n",
       "      <th>institute_type</th>\n",
       "      <th>round_no</th>\n",
       "      <th>quota</th>\n",
       "      <th>pool</th>\n",
       "      <th>institute_short</th>\n",
       "      <th>program_name</th>\n",
       "      <th>program_duration</th>\n",
       "      <th>degree_short</th>\n",
       "      <th>category</th>\n",
       "      <th>opening_rank</th>\n",
       "      <th>closing_rank</th>\n",
       "      <th>is_preparatory</th>\n",
       "    </tr>\n",
       "  </thead>\n",
       "  <tbody>\n",
       "    <tr>\n",
       "      <th>0</th>\n",
       "      <td>1</td>\n",
       "      <td>2016</td>\n",
       "      <td>IIT</td>\n",
       "      <td>6</td>\n",
       "      <td>AI</td>\n",
       "      <td>Gender-Neutral</td>\n",
       "      <td>IIT-Bombay</td>\n",
       "      <td>Aerospace Engineering</td>\n",
       "      <td>4 Years</td>\n",
       "      <td>B.Tech</td>\n",
       "      <td>GEN</td>\n",
       "      <td>838</td>\n",
       "      <td>1841</td>\n",
       "      <td>0</td>\n",
       "    </tr>\n",
       "    <tr>\n",
       "      <th>1</th>\n",
       "      <td>2</td>\n",
       "      <td>2016</td>\n",
       "      <td>IIT</td>\n",
       "      <td>6</td>\n",
       "      <td>AI</td>\n",
       "      <td>Gender-Neutral</td>\n",
       "      <td>IIT-Bombay</td>\n",
       "      <td>Aerospace Engineering</td>\n",
       "      <td>4 Years</td>\n",
       "      <td>B.Tech</td>\n",
       "      <td>OBC-NCL</td>\n",
       "      <td>408</td>\n",
       "      <td>1098</td>\n",
       "      <td>0</td>\n",
       "    </tr>\n",
       "    <tr>\n",
       "      <th>2</th>\n",
       "      <td>3</td>\n",
       "      <td>2016</td>\n",
       "      <td>IIT</td>\n",
       "      <td>6</td>\n",
       "      <td>AI</td>\n",
       "      <td>Gender-Neutral</td>\n",
       "      <td>IIT-Bombay</td>\n",
       "      <td>Aerospace Engineering</td>\n",
       "      <td>4 Years</td>\n",
       "      <td>B.Tech</td>\n",
       "      <td>SC</td>\n",
       "      <td>297</td>\n",
       "      <td>468</td>\n",
       "      <td>0</td>\n",
       "    </tr>\n",
       "    <tr>\n",
       "      <th>3</th>\n",
       "      <td>4</td>\n",
       "      <td>2016</td>\n",
       "      <td>IIT</td>\n",
       "      <td>6</td>\n",
       "      <td>AI</td>\n",
       "      <td>Gender-Neutral</td>\n",
       "      <td>IIT-Bombay</td>\n",
       "      <td>Aerospace Engineering</td>\n",
       "      <td>4 Years</td>\n",
       "      <td>B.Tech</td>\n",
       "      <td>ST</td>\n",
       "      <td>79</td>\n",
       "      <td>145</td>\n",
       "      <td>0</td>\n",
       "    </tr>\n",
       "    <tr>\n",
       "      <th>4</th>\n",
       "      <td>5</td>\n",
       "      <td>2016</td>\n",
       "      <td>IIT</td>\n",
       "      <td>6</td>\n",
       "      <td>AI</td>\n",
       "      <td>Gender-Neutral</td>\n",
       "      <td>IIT-Bombay</td>\n",
       "      <td>Aerospace Engineering</td>\n",
       "      <td>4 Years</td>\n",
       "      <td>B.Tech</td>\n",
       "      <td>GEN-PWD</td>\n",
       "      <td>94</td>\n",
       "      <td>94</td>\n",
       "      <td>0</td>\n",
       "    </tr>\n",
       "  </tbody>\n",
       "</table>\n",
       "</div>"
      ],
      "text/plain": [
       "   id  year institute_type  round_no quota            pool institute_short  \\\n",
       "0   1  2016            IIT         6    AI  Gender-Neutral      IIT-Bombay   \n",
       "1   2  2016            IIT         6    AI  Gender-Neutral      IIT-Bombay   \n",
       "2   3  2016            IIT         6    AI  Gender-Neutral      IIT-Bombay   \n",
       "3   4  2016            IIT         6    AI  Gender-Neutral      IIT-Bombay   \n",
       "4   5  2016            IIT         6    AI  Gender-Neutral      IIT-Bombay   \n",
       "\n",
       "            program_name program_duration degree_short category  opening_rank  \\\n",
       "0  Aerospace Engineering          4 Years       B.Tech      GEN           838   \n",
       "1  Aerospace Engineering          4 Years       B.Tech  OBC-NCL           408   \n",
       "2  Aerospace Engineering          4 Years       B.Tech       SC           297   \n",
       "3  Aerospace Engineering          4 Years       B.Tech       ST            79   \n",
       "4  Aerospace Engineering          4 Years       B.Tech  GEN-PWD            94   \n",
       "\n",
       "   closing_rank  is_preparatory  \n",
       "0          1841               0  \n",
       "1          1098               0  \n",
       "2           468               0  \n",
       "3           145               0  \n",
       "4            94               0  "
      ]
     },
     "execution_count": 4,
     "metadata": {},
     "output_type": "execute_result"
    }
   ],
   "source": [
    "df.head()"
   ]
  },
  {
   "cell_type": "code",
   "execution_count": 5,
   "id": "24fd906c",
   "metadata": {},
   "outputs": [
    {
     "data": {
      "text/html": [
       "<div>\n",
       "<style scoped>\n",
       "    .dataframe tbody tr th:only-of-type {\n",
       "        vertical-align: middle;\n",
       "    }\n",
       "\n",
       "    .dataframe tbody tr th {\n",
       "        vertical-align: top;\n",
       "    }\n",
       "\n",
       "    .dataframe thead th {\n",
       "        text-align: right;\n",
       "    }\n",
       "</style>\n",
       "<table border=\"1\" class=\"dataframe\">\n",
       "  <thead>\n",
       "    <tr style=\"text-align: right;\">\n",
       "      <th></th>\n",
       "      <th>id</th>\n",
       "      <th>year</th>\n",
       "      <th>institute_type</th>\n",
       "      <th>round_no</th>\n",
       "      <th>quota</th>\n",
       "      <th>pool</th>\n",
       "      <th>institute_short</th>\n",
       "      <th>program_name</th>\n",
       "      <th>program_duration</th>\n",
       "      <th>degree_short</th>\n",
       "      <th>category</th>\n",
       "      <th>opening_rank</th>\n",
       "      <th>closing_rank</th>\n",
       "      <th>is_preparatory</th>\n",
       "    </tr>\n",
       "  </thead>\n",
       "  <tbody>\n",
       "    <tr>\n",
       "      <th>64953</th>\n",
       "      <td>31136</td>\n",
       "      <td>2021</td>\n",
       "      <td>NIT</td>\n",
       "      <td>1</td>\n",
       "      <td>JK</td>\n",
       "      <td>Female-Only</td>\n",
       "      <td>NIT-Srinagar</td>\n",
       "      <td>Electronics and Communication Engineering</td>\n",
       "      <td>4 Years</td>\n",
       "      <td>B.Tech</td>\n",
       "      <td>SC</td>\n",
       "      <td>14185</td>\n",
       "      <td>24048</td>\n",
       "      <td>0</td>\n",
       "    </tr>\n",
       "    <tr>\n",
       "      <th>64954</th>\n",
       "      <td>31137</td>\n",
       "      <td>2021</td>\n",
       "      <td>NIT</td>\n",
       "      <td>1</td>\n",
       "      <td>JK</td>\n",
       "      <td>Gender-Neutral</td>\n",
       "      <td>NIT-Srinagar</td>\n",
       "      <td>Electronics and Communication Engineering</td>\n",
       "      <td>4 Years</td>\n",
       "      <td>B.Tech</td>\n",
       "      <td>ST</td>\n",
       "      <td>2736</td>\n",
       "      <td>4171</td>\n",
       "      <td>0</td>\n",
       "    </tr>\n",
       "    <tr>\n",
       "      <th>64955</th>\n",
       "      <td>31138</td>\n",
       "      <td>2021</td>\n",
       "      <td>NIT</td>\n",
       "      <td>1</td>\n",
       "      <td>JK</td>\n",
       "      <td>Female-Only</td>\n",
       "      <td>NIT-Srinagar</td>\n",
       "      <td>Electronics and Communication Engineering</td>\n",
       "      <td>4 Years</td>\n",
       "      <td>B.Tech</td>\n",
       "      <td>ST</td>\n",
       "      <td>10870</td>\n",
       "      <td>10870</td>\n",
       "      <td>0</td>\n",
       "    </tr>\n",
       "    <tr>\n",
       "      <th>64956</th>\n",
       "      <td>31139</td>\n",
       "      <td>2021</td>\n",
       "      <td>NIT</td>\n",
       "      <td>1</td>\n",
       "      <td>LA</td>\n",
       "      <td>Gender-Neutral</td>\n",
       "      <td>NIT-Srinagar</td>\n",
       "      <td>Electronics and Communication Engineering</td>\n",
       "      <td>4 Years</td>\n",
       "      <td>B.Tech</td>\n",
       "      <td>GEN</td>\n",
       "      <td>166453</td>\n",
       "      <td>265454</td>\n",
       "      <td>0</td>\n",
       "    </tr>\n",
       "    <tr>\n",
       "      <th>64957</th>\n",
       "      <td>31140</td>\n",
       "      <td>2021</td>\n",
       "      <td>NIT</td>\n",
       "      <td>1</td>\n",
       "      <td>LA</td>\n",
       "      <td>Female-Only</td>\n",
       "      <td>NIT-Srinagar</td>\n",
       "      <td>Electronics and Communication Engineering</td>\n",
       "      <td>4 Years</td>\n",
       "      <td>B.Tech</td>\n",
       "      <td>GEN</td>\n",
       "      <td>215054</td>\n",
       "      <td>215054</td>\n",
       "      <td>0</td>\n",
       "    </tr>\n",
       "  </tbody>\n",
       "</table>\n",
       "</div>"
      ],
      "text/plain": [
       "          id  year institute_type  round_no quota            pool  \\\n",
       "64953  31136  2021            NIT         1    JK     Female-Only   \n",
       "64954  31137  2021            NIT         1    JK  Gender-Neutral   \n",
       "64955  31138  2021            NIT         1    JK     Female-Only   \n",
       "64956  31139  2021            NIT         1    LA  Gender-Neutral   \n",
       "64957  31140  2021            NIT         1    LA     Female-Only   \n",
       "\n",
       "      institute_short                               program_name  \\\n",
       "64953    NIT-Srinagar  Electronics and Communication Engineering   \n",
       "64954    NIT-Srinagar  Electronics and Communication Engineering   \n",
       "64955    NIT-Srinagar  Electronics and Communication Engineering   \n",
       "64956    NIT-Srinagar  Electronics and Communication Engineering   \n",
       "64957    NIT-Srinagar  Electronics and Communication Engineering   \n",
       "\n",
       "      program_duration degree_short category  opening_rank  closing_rank  \\\n",
       "64953          4 Years       B.Tech       SC         14185         24048   \n",
       "64954          4 Years       B.Tech       ST          2736          4171   \n",
       "64955          4 Years       B.Tech       ST         10870         10870   \n",
       "64956          4 Years       B.Tech      GEN        166453        265454   \n",
       "64957          4 Years       B.Tech      GEN        215054        215054   \n",
       "\n",
       "       is_preparatory  \n",
       "64953               0  \n",
       "64954               0  \n",
       "64955               0  \n",
       "64956               0  \n",
       "64957               0  "
      ]
     },
     "execution_count": 5,
     "metadata": {},
     "output_type": "execute_result"
    }
   ],
   "source": [
    "df.tail()"
   ]
  },
  {
   "cell_type": "code",
   "execution_count": 6,
   "id": "e356113f",
   "metadata": {},
   "outputs": [
    {
     "data": {
      "text/plain": [
       "id                  0\n",
       "year                0\n",
       "institute_type      0\n",
       "round_no            0\n",
       "quota               0\n",
       "pool                0\n",
       "institute_short     0\n",
       "program_name        0\n",
       "program_duration    0\n",
       "degree_short        0\n",
       "category            0\n",
       "opening_rank        0\n",
       "closing_rank        0\n",
       "is_preparatory      0\n",
       "dtype: int64"
      ]
     },
     "execution_count": 6,
     "metadata": {},
     "output_type": "execute_result"
    }
   ],
   "source": [
    "df.isnull().sum()"
   ]
  },
  {
   "cell_type": "code",
   "execution_count": 7,
   "id": "32078cc3",
   "metadata": {},
   "outputs": [
    {
     "name": "stdout",
     "output_type": "stream",
     "text": [
      "<class 'pandas.core.frame.DataFrame'>\n",
      "RangeIndex: 64958 entries, 0 to 64957\n",
      "Data columns (total 14 columns):\n",
      " #   Column            Non-Null Count  Dtype \n",
      "---  ------            --------------  ----- \n",
      " 0   id                64958 non-null  int64 \n",
      " 1   year              64958 non-null  int64 \n",
      " 2   institute_type    64958 non-null  object\n",
      " 3   round_no          64958 non-null  int64 \n",
      " 4   quota             64958 non-null  object\n",
      " 5   pool              64958 non-null  object\n",
      " 6   institute_short   64958 non-null  object\n",
      " 7   program_name      64958 non-null  object\n",
      " 8   program_duration  64958 non-null  object\n",
      " 9   degree_short      64958 non-null  object\n",
      " 10  category          64958 non-null  object\n",
      " 11  opening_rank      64958 non-null  int64 \n",
      " 12  closing_rank      64958 non-null  int64 \n",
      " 13  is_preparatory    64958 non-null  int64 \n",
      "dtypes: int64(6), object(8)\n",
      "memory usage: 6.9+ MB\n"
     ]
    }
   ],
   "source": [
    "df.info()"
   ]
  },
  {
   "cell_type": "code",
   "execution_count": 8,
   "id": "ca683325",
   "metadata": {},
   "outputs": [
    {
     "data": {
      "text/plain": [
       "(64958, 14)"
      ]
     },
     "execution_count": 8,
     "metadata": {},
     "output_type": "execute_result"
    }
   ],
   "source": [
    "df.shape"
   ]
  },
  {
   "cell_type": "code",
   "execution_count": 9,
   "id": "d310b93f",
   "metadata": {},
   "outputs": [
    {
     "data": {
      "text/plain": [
       "Index(['id', 'year', 'institute_type', 'round_no', 'quota', 'pool',\n",
       "       'institute_short', 'program_name', 'program_duration', 'degree_short',\n",
       "       'category', 'opening_rank', 'closing_rank', 'is_preparatory'],\n",
       "      dtype='object')"
      ]
     },
     "execution_count": 9,
     "metadata": {},
     "output_type": "execute_result"
    }
   ],
   "source": [
    "df.columns"
   ]
  },
  {
   "cell_type": "code",
   "execution_count": 10,
   "id": "9b703c9c",
   "metadata": {},
   "outputs": [
    {
     "data": {
      "text/plain": [
       "39500"
      ]
     },
     "execution_count": 10,
     "metadata": {},
     "output_type": "execute_result"
    }
   ],
   "source": [
    "df.duplicated().sum()"
   ]
  },
  {
   "cell_type": "code",
   "execution_count": 11,
   "id": "b88bdbb2",
   "metadata": {},
   "outputs": [
    {
     "data": {
      "text/html": [
       "<div>\n",
       "<style scoped>\n",
       "    .dataframe tbody tr th:only-of-type {\n",
       "        vertical-align: middle;\n",
       "    }\n",
       "\n",
       "    .dataframe tbody tr th {\n",
       "        vertical-align: top;\n",
       "    }\n",
       "\n",
       "    .dataframe thead th {\n",
       "        text-align: right;\n",
       "    }\n",
       "</style>\n",
       "<table border=\"1\" class=\"dataframe\">\n",
       "  <thead>\n",
       "    <tr style=\"text-align: right;\">\n",
       "      <th></th>\n",
       "      <th>id</th>\n",
       "      <th>year</th>\n",
       "      <th>round_no</th>\n",
       "      <th>opening_rank</th>\n",
       "      <th>closing_rank</th>\n",
       "      <th>is_preparatory</th>\n",
       "    </tr>\n",
       "  </thead>\n",
       "  <tbody>\n",
       "    <tr>\n",
       "      <th>count</th>\n",
       "      <td>64958.000000</td>\n",
       "      <td>64958.000000</td>\n",
       "      <td>64958.000000</td>\n",
       "      <td>6.495800e+04</td>\n",
       "      <td>6.495800e+04</td>\n",
       "      <td>64958.000000</td>\n",
       "    </tr>\n",
       "    <tr>\n",
       "      <th>mean</th>\n",
       "      <td>18171.173389</td>\n",
       "      <td>2020.421580</td>\n",
       "      <td>2.609348</td>\n",
       "      <td>8.259642e+03</td>\n",
       "      <td>1.070497e+04</td>\n",
       "      <td>0.047631</td>\n",
       "    </tr>\n",
       "    <tr>\n",
       "      <th>std</th>\n",
       "      <td>9619.123659</td>\n",
       "      <td>1.149762</td>\n",
       "      <td>2.422558</td>\n",
       "      <td>2.679448e+04</td>\n",
       "      <td>3.788101e+04</td>\n",
       "      <td>0.212985</td>\n",
       "    </tr>\n",
       "    <tr>\n",
       "      <th>min</th>\n",
       "      <td>1.000000</td>\n",
       "      <td>2016.000000</td>\n",
       "      <td>1.000000</td>\n",
       "      <td>0.000000e+00</td>\n",
       "      <td>0.000000e+00</td>\n",
       "      <td>0.000000</td>\n",
       "    </tr>\n",
       "    <tr>\n",
       "      <th>25%</th>\n",
       "      <td>10378.000000</td>\n",
       "      <td>2020.000000</td>\n",
       "      <td>1.000000</td>\n",
       "      <td>6.710000e+02</td>\n",
       "      <td>8.320000e+02</td>\n",
       "      <td>0.000000</td>\n",
       "    </tr>\n",
       "    <tr>\n",
       "      <th>50%</th>\n",
       "      <td>13084.500000</td>\n",
       "      <td>2021.000000</td>\n",
       "      <td>1.000000</td>\n",
       "      <td>2.309000e+03</td>\n",
       "      <td>2.764500e+03</td>\n",
       "      <td>0.000000</td>\n",
       "    </tr>\n",
       "    <tr>\n",
       "      <th>75%</th>\n",
       "      <td>28434.000000</td>\n",
       "      <td>2021.000000</td>\n",
       "      <td>6.000000</td>\n",
       "      <td>6.932000e+03</td>\n",
       "      <td>8.190000e+03</td>\n",
       "      <td>0.000000</td>\n",
       "    </tr>\n",
       "    <tr>\n",
       "      <th>max</th>\n",
       "      <td>31140.000000</td>\n",
       "      <td>2021.000000</td>\n",
       "      <td>7.000000</td>\n",
       "      <td>1.082601e+06</td>\n",
       "      <td>1.144790e+06</td>\n",
       "      <td>1.000000</td>\n",
       "    </tr>\n",
       "  </tbody>\n",
       "</table>\n",
       "</div>"
      ],
      "text/plain": [
       "                 id          year      round_no  opening_rank  closing_rank  \\\n",
       "count  64958.000000  64958.000000  64958.000000  6.495800e+04  6.495800e+04   \n",
       "mean   18171.173389   2020.421580      2.609348  8.259642e+03  1.070497e+04   \n",
       "std     9619.123659      1.149762      2.422558  2.679448e+04  3.788101e+04   \n",
       "min        1.000000   2016.000000      1.000000  0.000000e+00  0.000000e+00   \n",
       "25%    10378.000000   2020.000000      1.000000  6.710000e+02  8.320000e+02   \n",
       "50%    13084.500000   2021.000000      1.000000  2.309000e+03  2.764500e+03   \n",
       "75%    28434.000000   2021.000000      6.000000  6.932000e+03  8.190000e+03   \n",
       "max    31140.000000   2021.000000      7.000000  1.082601e+06  1.144790e+06   \n",
       "\n",
       "       is_preparatory  \n",
       "count    64958.000000  \n",
       "mean         0.047631  \n",
       "std          0.212985  \n",
       "min          0.000000  \n",
       "25%          0.000000  \n",
       "50%          0.000000  \n",
       "75%          0.000000  \n",
       "max          1.000000  "
      ]
     },
     "execution_count": 11,
     "metadata": {},
     "output_type": "execute_result"
    }
   ],
   "source": [
    "df.describe()"
   ]
  },
  {
   "cell_type": "code",
   "execution_count": 12,
   "id": "7c0d583c",
   "metadata": {},
   "outputs": [
    {
     "data": {
      "text/plain": [
       "id                  25458\n",
       "year                    6\n",
       "institute_type          2\n",
       "round_no                4\n",
       "quota                   7\n",
       "pool                    2\n",
       "institute_short        54\n",
       "program_name          130\n",
       "program_duration        2\n",
       "degree_short           13\n",
       "category               10\n",
       "opening_rank        10984\n",
       "closing_rank        11940\n",
       "is_preparatory          2\n",
       "dtype: int64"
      ]
     },
     "execution_count": 12,
     "metadata": {},
     "output_type": "execute_result"
    }
   ],
   "source": [
    "df.nunique()"
   ]
  },
  {
   "cell_type": "code",
   "execution_count": 13,
   "id": "4fb6a694",
   "metadata": {},
   "outputs": [],
   "source": [
    "df_categorical=df[['year','institute_type','round_no','quota','pool','institute_short','program_name','program_duration','degree_short','category','opening_rank','closing_rank','is_preparatory']]"
   ]
  },
  {
   "cell_type": "code",
   "execution_count": 15,
   "id": "187caf8f",
   "metadata": {},
   "outputs": [
    {
     "name": "stdout",
     "output_type": "stream",
     "text": [
      "[2016 2017 2018 2019 2020 2021]\n",
      "['IIT' 'NIT']\n",
      "[6 7 1 2]\n",
      "['AI' 'HS' 'OS' 'AP' 'GO' 'JK' 'LA']\n",
      "['Gender-Neutral' 'Female-Only']\n",
      "['IIT-Bombay' 'IIT-Delhi' 'IIT-Kharagpur' 'IIT-Kanpur' 'IIT-Madras'\n",
      " 'IIT-Roorkee' 'IIT-Guwahati' 'IIT-Indore' 'IIT-Hyderabad'\n",
      " 'IIT-(BHU) Varanasi' 'IIT-Patna' 'IIT-(ISM) Dhanbad' 'IIT-Bhubaneswar'\n",
      " 'IIT-Mandi' 'IIT-Gandhinagar' 'IIT-Ropar' 'IIT-Jodhpur' 'IIT-Tirupati'\n",
      " 'IIT-Bhilai' 'IIT-Dharwad' 'IIT-Goa' 'IIT-Jammu' 'IIT-Palakkad'\n",
      " 'NIT-Warangal' 'NIT-Tiruchirappalli' 'NIT-Uttarakhand' 'NIT-Surat'\n",
      " 'NIT-Nagpur' 'NIT-Andhra-Pradesh' 'NIT-Jalandhar' 'NIT-Jaipur'\n",
      " 'NIT-Bhopal' 'NIT-Allahabad' 'NIT-Calicut' 'NIT-Agartala' 'NIT-Delhi'\n",
      " 'NIT-Durgapur' 'NIT-Goa' 'NIT-Hamirpur' 'NIT-Meghalaya'\n",
      " 'NIT-Karnataka-Surathkal' 'NIT-Patna' 'NIT-Nagaland' 'NIT-Puducherry'\n",
      " 'NIT-Raipur' 'NIT-Sikkim' 'NIT-Arunachal-Pradesh' 'NIT-Jamshedpur'\n",
      " 'NIT-Kurukshetra' 'NIT-Manipur' 'NIT-Mizoram' 'NIT-Rourkela'\n",
      " 'NIT-Silchar' 'NIT-Srinagar']\n",
      "['Aerospace Engineering' 'Chemical Engineering' 'Chemistry'\n",
      " 'Civil Engineering' 'Computer Science and Engineering'\n",
      " 'Electrical Engineering'\n",
      " 'Electrical Engineering with M.Tech. in Communications and Signal Processing'\n",
      " 'Electrical Engineering with M.Tech. in Microelectronics'\n",
      " 'Energy Engineering with M.Tech. in Energy Systems Engineering'\n",
      " 'Engineering Physics'\n",
      " 'Engineering Physics and M.Tech. with specialization in Nano Science'\n",
      " 'Mechanical Engineering'\n",
      " 'Mechanical Engineering and M.Tech. in Computer Integrated Manufacturing'\n",
      " 'Metallurgical Engineering and Materials Science'\n",
      " 'Metallurgical Engineering and Materials Science with M.Tech. in Ceramics and Composites'\n",
      " 'Metallurgical Engineering and Materials Science with M.Tech. in Metallurgical Process Engineering'\n",
      " 'Biochemical Engineering and Biotechnology'\n",
      " 'Biotechnology and Biochemical Engineering'\n",
      " 'Electrical Engineering - Power and Automation'\n",
      " 'Mathematics and Computing' 'Production and Industrial Engineering'\n",
      " 'Textile Technology' 'Agricultural and Food Engineering'\n",
      " 'Agricultural and Food Engineering with M.Tech. in any of the listed specializations'\n",
      " 'Applied Geology' 'Architecture'\n",
      " 'Civil Engineering with any of the listed specialization' 'Economics'\n",
      " 'Electrical Engineering with M.Tech. in any of the listed specializations'\n",
      " 'Electronics and Electrical Communication Engineering'\n",
      " 'Electronics and Electrical Communication Engineering with M.Tech. in any of the listed specializations'\n",
      " 'Exploration Geophysics' 'Industrial and Systems Engineering'\n",
      " 'Industrial and Systems Engineering with M.Tech. in Industrial and Systems Engineering and Management'\n",
      " 'Instrumentation Engineering' 'Manufacturing Science and Engineering'\n",
      " 'Mining Engineering'\n",
      " 'Manufacturing Science and Engineering with M.Tech. in Industrial and Systems Engineering and Management'\n",
      " 'Mechanical Engineering with M.Tech. in any of the listed specializations'\n",
      " 'Metallurgical and Materials Engineering' 'Mining Safety Engineering'\n",
      " 'Ocean Engineering and Naval Architecture' 'Physics'\n",
      " 'Quality Engineering Design and Manufacturing'\n",
      " 'Biological Sciences and Bioengineering' 'Earth Sciences'\n",
      " 'Materials Science and Engineering'\n",
      " 'Mathematics and Scientific Computing' 'Biological Engineering'\n",
      " 'Biological Sciences' 'Engineering Design'\n",
      " 'Naval Architecture and Ocean Engineering' 'Applied Mathematics'\n",
      " 'Bio Technology' 'Electronics and Communication Engineering'\n",
      " 'Geological Technology' 'Geophysical Technology'\n",
      " 'Polymer Science and Engineering' 'Chemical Science and Technology'\n",
      " 'Electronics and Electrical Engineering' 'Engineering Science'\n",
      " 'Materials Science and Metallurgical Engineering'\n",
      " 'Biochemical Engineering with M.Tech. in Biochemical Engineering and Biotechnology'\n",
      " 'Bioengineering with M.Tech in Biomedical Technology'\n",
      " 'Ceramic Engineering'\n",
      " 'Civil Engineering with M.Tech. in Structural Engineering'\n",
      " 'Electrical Engineering with M.Tech. in Power Electronics'\n",
      " 'Electronics Engineering' 'Industrial Chemistry'\n",
      " 'Materials Science and Technology' 'Metallurgical Engineering'\n",
      " 'Pharmaceutics' 'Applied Geophysics'\n",
      " 'Electronics and Instrumentation Engineering' 'Environmental Engineering'\n",
      " 'Mineral Engineering' 'Mining Machinery Engineering'\n",
      " 'Petroleum Engineering'\n",
      " 'Civil Engineering and M. Tech. in Structural Engineering'\n",
      " 'Civil Engineering and M.Tech in Transportation Engineering'\n",
      " 'Mechanical Engineering and M. Tech. in Mechanical System Design'\n",
      " 'Mechanical Engineering and M. Tech. in Thermal Science & Engineering'\n",
      " 'Pharmaceutical Engineering & Technology'\n",
      " 'Civil Engineering and M.Tech. in Environmental Engineering'\n",
      " 'Electrical Engineering and M.Tech Power Electronics and Drives'\n",
      " 'Mechanical Engineering with M.Tech. in Manufacturing Engineering'\n",
      " 'Metallurgical and Materials Engineering and M.Tech. in Materials Science and Engineering'\n",
      " 'BS in Mathematics' 'Environmental Science and Engineering'\n",
      " 'Mechanical Engineering and M.Tech. in Computer IntegratedManufacturing'\n",
      " 'Metallurgical Engineering & Materials Science'\n",
      " 'Agricultural and Food Engineering with M.Tech. in any of the listedspecializations'\n",
      " 'Electronics and Electrical Communication Engineering with M.Tech. in anyof the listed specializations'\n",
      " 'Industrial and Systems Engineering with M.Tech. in Industrial and SystemsEngineering and Management'\n",
      " 'Manufacturing Science and Engineering with M.Tech. in Industrial andSystems Engineering and Management'\n",
      " 'Artificial Intelligence'\n",
      " 'Biochemical Engineering with M.Tech. in Biochemical Engineering andBiotechnology'\n",
      " 'Data Science and Engineering' 'Bio Engineering'\n",
      " 'Electrical and Electronics Engineering'\n",
      " 'Electrical Engineering in Power and Automation'\n",
      " 'Engineering and Computational Mechanics' 'Materials Engineering'\n",
      " 'Biomedical Engineering' 'Artificial Intelligence and Data Science'\n",
      " 'Civil and Infrastructure Engineering'\n",
      " 'Mineral and Metallurgical Engineering' 'Biosciences and Bioengineering'\n",
      " 'Data Science and Artificial Intelligence' 'Energy Engineering'\n",
      " 'Statistics and Data Science' 'Chemical Sciences'\n",
      " 'Mathematics & Computing' 'Biotechnology and Bioinformatics'\n",
      " 'Computational Engineering' 'Instrumentation and Control Engineering'\n",
      " 'Production Engineering' 'Computer Engineering' 'Mathematics'\n",
      " 'Information Technology' 'Industrial and Production Engineering'\n",
      " 'Planning' 'Biotechnology' 'Bio Medical Engineering' 'Industrial Design'\n",
      " 'Food Process Engineering'\n",
      " 'Ceramic Engineering and M.Tech Industrial Ceramic' 'Life Science'\n",
      " 'Mathematics and Data Science' 'Computational Mathematics']\n",
      "['4 Years' '5 Years']\n",
      "['B.Tech' 'BSc' 'B.Tech + M.Tech (IDD)' 'Int MSc.' 'B.Arch' 'Int M.Tech'\n",
      " 'B.Pharm' 'B.Pharm + M.Pharm' 'BS + MS (IDD)' 'Int Msc.' 'B.Plan'\n",
      " 'Btech + M.Tech (IDD)' 'BSc + MSc (IDD)']\n",
      "['GEN' 'OBC-NCL' 'SC' 'ST' 'GEN-PWD' 'OBC-NCL-PWD' 'SC-PWD' 'ST-PWD'\n",
      " 'GEN-EWS' 'GEN-EWS-PWD']\n",
      "[   838    408    297 ...  10870 166453 215054]\n",
      "[  1841   1098    468 ...  10870 265454 215054]\n",
      "[0 1]\n"
     ]
    }
   ],
   "source": [
    "for i in df_categorical.columns:\n",
    "    print(df_categorical[i].unique())"
   ]
  },
  {
   "cell_type": "code",
   "execution_count": 16,
   "id": "5757dbdb",
   "metadata": {},
   "outputs": [
    {
     "data": {
      "text/html": [
       "<div>\n",
       "<style scoped>\n",
       "    .dataframe tbody tr th:only-of-type {\n",
       "        vertical-align: middle;\n",
       "    }\n",
       "\n",
       "    .dataframe tbody tr th {\n",
       "        vertical-align: top;\n",
       "    }\n",
       "\n",
       "    .dataframe thead th {\n",
       "        text-align: right;\n",
       "    }\n",
       "</style>\n",
       "<table border=\"1\" class=\"dataframe\">\n",
       "  <thead>\n",
       "    <tr style=\"text-align: right;\">\n",
       "      <th></th>\n",
       "      <th>id</th>\n",
       "      <th>year</th>\n",
       "      <th>institute_type</th>\n",
       "      <th>round_no</th>\n",
       "      <th>quota</th>\n",
       "      <th>pool</th>\n",
       "      <th>institute_short</th>\n",
       "      <th>program_name</th>\n",
       "      <th>program_duration</th>\n",
       "      <th>degree_short</th>\n",
       "      <th>category</th>\n",
       "      <th>opening_rank</th>\n",
       "      <th>closing_rank</th>\n",
       "      <th>is_preparatory</th>\n",
       "    </tr>\n",
       "  </thead>\n",
       "  <tbody>\n",
       "    <tr>\n",
       "      <th>0</th>\n",
       "      <td>1</td>\n",
       "      <td>2016</td>\n",
       "      <td>IIT</td>\n",
       "      <td>6</td>\n",
       "      <td>AI</td>\n",
       "      <td>Gender-Neutral</td>\n",
       "      <td>IIT-Bombay</td>\n",
       "      <td>Aerospace Engineering</td>\n",
       "      <td>4 Years</td>\n",
       "      <td>B.Tech</td>\n",
       "      <td>GEN</td>\n",
       "      <td>838</td>\n",
       "      <td>1841</td>\n",
       "      <td>0</td>\n",
       "    </tr>\n",
       "    <tr>\n",
       "      <th>1</th>\n",
       "      <td>2</td>\n",
       "      <td>2016</td>\n",
       "      <td>IIT</td>\n",
       "      <td>6</td>\n",
       "      <td>AI</td>\n",
       "      <td>Gender-Neutral</td>\n",
       "      <td>IIT-Bombay</td>\n",
       "      <td>Aerospace Engineering</td>\n",
       "      <td>4 Years</td>\n",
       "      <td>B.Tech</td>\n",
       "      <td>OBC-NCL</td>\n",
       "      <td>408</td>\n",
       "      <td>1098</td>\n",
       "      <td>0</td>\n",
       "    </tr>\n",
       "    <tr>\n",
       "      <th>2</th>\n",
       "      <td>3</td>\n",
       "      <td>2016</td>\n",
       "      <td>IIT</td>\n",
       "      <td>6</td>\n",
       "      <td>AI</td>\n",
       "      <td>Gender-Neutral</td>\n",
       "      <td>IIT-Bombay</td>\n",
       "      <td>Aerospace Engineering</td>\n",
       "      <td>4 Years</td>\n",
       "      <td>B.Tech</td>\n",
       "      <td>SC</td>\n",
       "      <td>297</td>\n",
       "      <td>468</td>\n",
       "      <td>0</td>\n",
       "    </tr>\n",
       "    <tr>\n",
       "      <th>3</th>\n",
       "      <td>4</td>\n",
       "      <td>2016</td>\n",
       "      <td>IIT</td>\n",
       "      <td>6</td>\n",
       "      <td>AI</td>\n",
       "      <td>Gender-Neutral</td>\n",
       "      <td>IIT-Bombay</td>\n",
       "      <td>Aerospace Engineering</td>\n",
       "      <td>4 Years</td>\n",
       "      <td>B.Tech</td>\n",
       "      <td>ST</td>\n",
       "      <td>79</td>\n",
       "      <td>145</td>\n",
       "      <td>0</td>\n",
       "    </tr>\n",
       "    <tr>\n",
       "      <th>4</th>\n",
       "      <td>5</td>\n",
       "      <td>2016</td>\n",
       "      <td>IIT</td>\n",
       "      <td>6</td>\n",
       "      <td>AI</td>\n",
       "      <td>Gender-Neutral</td>\n",
       "      <td>IIT-Bombay</td>\n",
       "      <td>Aerospace Engineering</td>\n",
       "      <td>4 Years</td>\n",
       "      <td>B.Tech</td>\n",
       "      <td>GEN-PWD</td>\n",
       "      <td>94</td>\n",
       "      <td>94</td>\n",
       "      <td>0</td>\n",
       "    </tr>\n",
       "    <tr>\n",
       "      <th>...</th>\n",
       "      <td>...</td>\n",
       "      <td>...</td>\n",
       "      <td>...</td>\n",
       "      <td>...</td>\n",
       "      <td>...</td>\n",
       "      <td>...</td>\n",
       "      <td>...</td>\n",
       "      <td>...</td>\n",
       "      <td>...</td>\n",
       "      <td>...</td>\n",
       "      <td>...</td>\n",
       "      <td>...</td>\n",
       "      <td>...</td>\n",
       "      <td>...</td>\n",
       "    </tr>\n",
       "    <tr>\n",
       "      <th>64953</th>\n",
       "      <td>31136</td>\n",
       "      <td>2021</td>\n",
       "      <td>NIT</td>\n",
       "      <td>1</td>\n",
       "      <td>JK</td>\n",
       "      <td>Female-Only</td>\n",
       "      <td>NIT-Srinagar</td>\n",
       "      <td>Electronics and Communication Engineering</td>\n",
       "      <td>4 Years</td>\n",
       "      <td>B.Tech</td>\n",
       "      <td>SC</td>\n",
       "      <td>14185</td>\n",
       "      <td>24048</td>\n",
       "      <td>0</td>\n",
       "    </tr>\n",
       "    <tr>\n",
       "      <th>64954</th>\n",
       "      <td>31137</td>\n",
       "      <td>2021</td>\n",
       "      <td>NIT</td>\n",
       "      <td>1</td>\n",
       "      <td>JK</td>\n",
       "      <td>Gender-Neutral</td>\n",
       "      <td>NIT-Srinagar</td>\n",
       "      <td>Electronics and Communication Engineering</td>\n",
       "      <td>4 Years</td>\n",
       "      <td>B.Tech</td>\n",
       "      <td>ST</td>\n",
       "      <td>2736</td>\n",
       "      <td>4171</td>\n",
       "      <td>0</td>\n",
       "    </tr>\n",
       "    <tr>\n",
       "      <th>64955</th>\n",
       "      <td>31138</td>\n",
       "      <td>2021</td>\n",
       "      <td>NIT</td>\n",
       "      <td>1</td>\n",
       "      <td>JK</td>\n",
       "      <td>Female-Only</td>\n",
       "      <td>NIT-Srinagar</td>\n",
       "      <td>Electronics and Communication Engineering</td>\n",
       "      <td>4 Years</td>\n",
       "      <td>B.Tech</td>\n",
       "      <td>ST</td>\n",
       "      <td>10870</td>\n",
       "      <td>10870</td>\n",
       "      <td>0</td>\n",
       "    </tr>\n",
       "    <tr>\n",
       "      <th>64956</th>\n",
       "      <td>31139</td>\n",
       "      <td>2021</td>\n",
       "      <td>NIT</td>\n",
       "      <td>1</td>\n",
       "      <td>LA</td>\n",
       "      <td>Gender-Neutral</td>\n",
       "      <td>NIT-Srinagar</td>\n",
       "      <td>Electronics and Communication Engineering</td>\n",
       "      <td>4 Years</td>\n",
       "      <td>B.Tech</td>\n",
       "      <td>GEN</td>\n",
       "      <td>166453</td>\n",
       "      <td>265454</td>\n",
       "      <td>0</td>\n",
       "    </tr>\n",
       "    <tr>\n",
       "      <th>64957</th>\n",
       "      <td>31140</td>\n",
       "      <td>2021</td>\n",
       "      <td>NIT</td>\n",
       "      <td>1</td>\n",
       "      <td>LA</td>\n",
       "      <td>Female-Only</td>\n",
       "      <td>NIT-Srinagar</td>\n",
       "      <td>Electronics and Communication Engineering</td>\n",
       "      <td>4 Years</td>\n",
       "      <td>B.Tech</td>\n",
       "      <td>GEN</td>\n",
       "      <td>215054</td>\n",
       "      <td>215054</td>\n",
       "      <td>0</td>\n",
       "    </tr>\n",
       "  </tbody>\n",
       "</table>\n",
       "<p>64958 rows × 14 columns</p>\n",
       "</div>"
      ],
      "text/plain": [
       "          id  year institute_type  round_no quota            pool  \\\n",
       "0          1  2016            IIT         6    AI  Gender-Neutral   \n",
       "1          2  2016            IIT         6    AI  Gender-Neutral   \n",
       "2          3  2016            IIT         6    AI  Gender-Neutral   \n",
       "3          4  2016            IIT         6    AI  Gender-Neutral   \n",
       "4          5  2016            IIT         6    AI  Gender-Neutral   \n",
       "...      ...   ...            ...       ...   ...             ...   \n",
       "64953  31136  2021            NIT         1    JK     Female-Only   \n",
       "64954  31137  2021            NIT         1    JK  Gender-Neutral   \n",
       "64955  31138  2021            NIT         1    JK     Female-Only   \n",
       "64956  31139  2021            NIT         1    LA  Gender-Neutral   \n",
       "64957  31140  2021            NIT         1    LA     Female-Only   \n",
       "\n",
       "      institute_short                               program_name  \\\n",
       "0          IIT-Bombay                      Aerospace Engineering   \n",
       "1          IIT-Bombay                      Aerospace Engineering   \n",
       "2          IIT-Bombay                      Aerospace Engineering   \n",
       "3          IIT-Bombay                      Aerospace Engineering   \n",
       "4          IIT-Bombay                      Aerospace Engineering   \n",
       "...               ...                                        ...   \n",
       "64953    NIT-Srinagar  Electronics and Communication Engineering   \n",
       "64954    NIT-Srinagar  Electronics and Communication Engineering   \n",
       "64955    NIT-Srinagar  Electronics and Communication Engineering   \n",
       "64956    NIT-Srinagar  Electronics and Communication Engineering   \n",
       "64957    NIT-Srinagar  Electronics and Communication Engineering   \n",
       "\n",
       "      program_duration degree_short category  opening_rank  closing_rank  \\\n",
       "0              4 Years       B.Tech      GEN           838          1841   \n",
       "1              4 Years       B.Tech  OBC-NCL           408          1098   \n",
       "2              4 Years       B.Tech       SC           297           468   \n",
       "3              4 Years       B.Tech       ST            79           145   \n",
       "4              4 Years       B.Tech  GEN-PWD            94            94   \n",
       "...                ...          ...      ...           ...           ...   \n",
       "64953          4 Years       B.Tech       SC         14185         24048   \n",
       "64954          4 Years       B.Tech       ST          2736          4171   \n",
       "64955          4 Years       B.Tech       ST         10870         10870   \n",
       "64956          4 Years       B.Tech      GEN        166453        265454   \n",
       "64957          4 Years       B.Tech      GEN        215054        215054   \n",
       "\n",
       "       is_preparatory  \n",
       "0                   0  \n",
       "1                   0  \n",
       "2                   0  \n",
       "3                   0  \n",
       "4                   0  \n",
       "...               ...  \n",
       "64953               0  \n",
       "64954               0  \n",
       "64955               0  \n",
       "64956               0  \n",
       "64957               0  \n",
       "\n",
       "[64958 rows x 14 columns]"
      ]
     },
     "execution_count": 16,
     "metadata": {},
     "output_type": "execute_result"
    }
   ],
   "source": [
    "df"
   ]
  },
  {
   "cell_type": "code",
   "execution_count": 17,
   "id": "ec382cbc",
   "metadata": {},
   "outputs": [
    {
     "data": {
      "text/plain": [
       "<matplotlib.legend.Legend at 0x16335d5f220>"
      ]
     },
     "execution_count": 17,
     "metadata": {},
     "output_type": "execute_result"
    },
    {
     "data": {
      "image/png": "[encoded data removed]",
      "text/plain": [
       "<Figure size 1152x504 with 1 Axes>"
      ]
     },
     "metadata": {
      "needs_background": "light"
     },
     "output_type": "display_data"
    }
   ],
   "source": [
    "plt.figure(figsize=(16,7))\n",
    "year_club = df.groupby(['degree_short','institute_short']).institute_short.count().head(15).plot(kind = 'bar')\n",
    "plt.legend()"
   ]
  },
  {
   "cell_type": "code",
   "execution_count": 18,
   "id": "b0b93a6c",
   "metadata": {},
   "outputs": [
    {
     "data": {
      "text/plain": [
       "<matplotlib.legend.Legend at 0x16335d4bf70>"
      ]
     },
     "execution_count": 18,
     "metadata": {},
     "output_type": "execute_result"
    },
    {
     "data": {
      "image/png": "[encoded data removed]",
      "text/plain": [
       "<Figure size 1080x576 with 1 Axes>"
      ]
     },
     "metadata": {
      "needs_background": "light"
     },
     "output_type": "display_data"
    }
   ],
   "source": [
    "plt.figure(figsize=(15,8))\n",
    "year_club = df.groupby(['year', 'opening_rank']).opening_rank.count().head(100).plot(kind = 'line')\n",
    "plt.legend()"
   ]
  },
  {
   "cell_type": "code",
   "execution_count": 19,
   "id": "18562b27",
   "metadata": {},
   "outputs": [
    {
     "data": {
      "text/plain": [
       "<matplotlib.legend.Legend at 0x16336c86c40>"
      ]
     },
     "execution_count": 19,
     "metadata": {},
     "output_type": "execute_result"
    },
    {
     "data": {
      "image/png": "[encoded data removed]",
      "text/plain": [
       "<Figure size 1080x576 with 1 Axes>"
      ]
     },
     "metadata": {
      "needs_background": "light"
     },
     "output_type": "display_data"
    }
   ],
   "source": [
    "plt.figure(figsize=(15,8))\n",
    "year_club = df.groupby(['year', 'closing_rank']).closing_rank.count().head(100).plot(kind = 'line')\n",
    "plt.legend()"
   ]
  },
  {
   "cell_type": "code",
   "execution_count": 20,
   "id": "916cc15f",
   "metadata": {},
   "outputs": [
    {
     "data": {
      "text/plain": [
       "<matplotlib.legend.Legend at 0x163371ce4f0>"
      ]
     },
     "execution_count": 20,
     "metadata": {},
     "output_type": "execute_result"
    },
    {
     "data": {
      "image/png": "[encoded data removed]",
      "text/plain": [
       "<Figure size 1080x576 with 1 Axes>"
      ]
     },
     "metadata": {
      "needs_background": "light"
     },
     "output_type": "display_data"
    }
   ],
   "source": [
    "plt.figure(figsize=(15,8))\n",
    "year_club = df.groupby(['year', 'institute_type']).opening_rank.count().plot(kind = 'line')\n",
    "plt.legend()"
   ]
  },
  {
   "cell_type": "code",
   "execution_count": 21,
   "id": "d1ad2314",
   "metadata": {},
   "outputs": [
    {
     "data": {
      "text/plain": [
       "<matplotlib.legend.Legend at 0x163373cafa0>"
      ]
     },
     "execution_count": 21,
     "metadata": {},
     "output_type": "execute_result"
    },
    {
     "data": {
      "image/png": "[encoded data removed]",
      "text/plain": [
       "<Figure size 1080x576 with 1 Axes>"
      ]
     },
     "metadata": {
      "needs_background": "light"
     },
     "output_type": "display_data"
    }
   ],
   "source": [
    "plt.figure(figsize=(15,8))\n",
    "year_club = df.groupby(['year', 'quota']).opening_rank.count().plot(kind = 'line')\n",
    "plt.legend()"
   ]
  },
  {
   "cell_type": "code",
   "execution_count": 22,
   "id": "cd70dd49",
   "metadata": {},
   "outputs": [
    {
     "data": {
      "text/plain": [
       "<matplotlib.legend.Legend at 0x163374429a0>"
      ]
     },
     "execution_count": 22,
     "metadata": {},
     "output_type": "execute_result"
    },
    {
     "data": {
      "image/png": "[encoded data removed]",
      "text/plain": [
       "<Figure size 1080x576 with 1 Axes>"
      ]
     },
     "metadata": {
      "needs_background": "light"
     },
     "output_type": "display_data"
    }
   ],
   "source": [
    "plt.figure(figsize=(15,8))\n",
    "year_club = df.groupby(['year', 'pool']).opening_rank.count().plot(kind = 'line')\n",
    "plt.legend()"
   ]
  },
  {
   "cell_type": "code",
   "execution_count": 23,
   "id": "a17d0101",
   "metadata": {},
   "outputs": [
    {
     "data": {
      "text/plain": [
       "<matplotlib.legend.Legend at 0x163378c4ee0>"
      ]
     },
     "execution_count": 23,
     "metadata": {},
     "output_type": "execute_result"
    },
    {
     "data": {
      "image/png": "[encoded data removed]",
      "text/plain": [
       "<Figure size 1152x576 with 1 Axes>"
      ]
     },
     "metadata": {
      "needs_background": "light"
     },
     "output_type": "display_data"
    }
   ],
   "source": [
    "#Institutes with 3 and 4 year courses\n",
    "plt.figure(figsize=(16,8))\n",
    "year_club = df.groupby(['program_duration','institute_short']).institute_short.count().head(20).plot(kind = 'bar')\n",
    "plt.legend()"
   ]
  },
  {
   "cell_type": "code",
   "execution_count": 24,
   "id": "14fc1d08",
   "metadata": {},
   "outputs": [
    {
     "data": {
      "text/plain": [
       "<matplotlib.legend.Legend at 0x16337905070>"
      ]
     },
     "execution_count": 24,
     "metadata": {},
     "output_type": "execute_result"
    },
    {
     "data": {
      "image/png": "[encoded data removed]",
      "text/plain": [
       "<Figure size 1152x576 with 1 Axes>"
      ]
     },
     "metadata": {
      "needs_background": "light"
     },
     "output_type": "display_data"
    }
   ],
   "source": [
    "plt.figure(figsize=(16,8))\n",
    "year_club = df.groupby(['category','is_preparatory']).is_preparatory.count().head(10).plot(kind = 'bar')\n",
    "plt.legend()"
   ]
  },
  {
   "cell_type": "code",
   "execution_count": 25,
   "id": "ebb3a696",
   "metadata": {},
   "outputs": [
    {
     "name": "stdout",
     "output_type": "stream",
     "text": [
      "Avergae opening rank over the years has been -  8260\n"
     ]
    }
   ],
   "source": [
    "#Let's take average\n",
    "avg_opening_rank = df['opening_rank'].mean(axis = 0)\n",
    "avg_open_rank = round(avg_opening_rank)\n",
    "print(\"Avergae opening rank over the years has been - \", avg_open_rank)"
   ]
  },
  {
   "cell_type": "code",
   "execution_count": 26,
   "id": "3295b9c9",
   "metadata": {},
   "outputs": [
    {
     "name": "stdout",
     "output_type": "stream",
     "text": [
      "Minimum Opening Rank -  0  Maximum Opening Rank -  1082601\n"
     ]
    }
   ],
   "source": [
    "#Minimum and Maximum opening rank \n",
    "min_open_rank = df['opening_rank'].min()\n",
    "max_open_rank = df['opening_rank'].max()\n",
    "print(\"Minimum Opening Rank - \", min_open_rank, \" Maximum Opening Rank - \", max_open_rank)"
   ]
  },
  {
   "cell_type": "code",
   "execution_count": 27,
   "id": "e64033f6",
   "metadata": {},
   "outputs": [
    {
     "data": {
      "text/plain": [
       "id                               31140\n",
       "year                              2021\n",
       "institute_type                     NIT\n",
       "round_no                             7\n",
       "quota                               OS\n",
       "pool                    Gender-Neutral\n",
       "institute_short           NIT-Warangal\n",
       "program_name        Textile Technology\n",
       "program_duration               5 Years\n",
       "degree_short                  Int Msc.\n",
       "category                        ST-PWD\n",
       "opening_rank                   1082601\n",
       "closing_rank                   1144790\n",
       "is_preparatory                       1\n",
       "dtype: object"
      ]
     },
     "execution_count": 27,
     "metadata": {},
     "output_type": "execute_result"
    }
   ],
   "source": [
    "df.max()"
   ]
  },
  {
   "cell_type": "code",
   "execution_count": 28,
   "id": "56f82a12",
   "metadata": {},
   "outputs": [
    {
     "data": {
      "text/plain": [
       "id                                      1\n",
       "year                                 2016\n",
       "institute_type                        IIT\n",
       "round_no                                1\n",
       "quota                                  AI\n",
       "pool                          Female-Only\n",
       "institute_short        IIT-(BHU) Varanasi\n",
       "program_name        Aerospace Engineering\n",
       "program_duration                  4 Years\n",
       "degree_short                       B.Arch\n",
       "category                              GEN\n",
       "opening_rank                            0\n",
       "closing_rank                            0\n",
       "is_preparatory                          0\n",
       "dtype: object"
      ]
     },
     "execution_count": 28,
     "metadata": {},
     "output_type": "execute_result"
    }
   ],
   "source": [
    "df.min()"
   ]
  },
  {
   "cell_type": "code",
   "execution_count": 29,
   "id": "1b39e0d1",
   "metadata": {},
   "outputs": [
    {
     "data": {
      "text/plain": [
       "'NIT'"
      ]
     },
     "execution_count": 29,
     "metadata": {},
     "output_type": "execute_result"
    }
   ],
   "source": [
    "df['institute_type'].max()"
   ]
  },
  {
   "cell_type": "code",
   "execution_count": 30,
   "id": "ab0e9394",
   "metadata": {},
   "outputs": [
    {
     "data": {
      "text/plain": [
       "'IIT'"
      ]
     },
     "execution_count": 30,
     "metadata": {},
     "output_type": "execute_result"
    }
   ],
   "source": [
    "df['institute_type'].min()"
   ]
  },
  {
   "cell_type": "code",
   "execution_count": 31,
   "id": "2727e4cd",
   "metadata": {},
   "outputs": [],
   "source": [
    "x=df[[\"institute_type\"]].value_counts()"
   ]
  },
  {
   "cell_type": "code",
   "execution_count": 32,
   "id": "d362a071",
   "metadata": {},
   "outputs": [
    {
     "data": {
      "text/plain": [
       "institute_type\n",
       "IIT               32905\n",
       "NIT               32053\n",
       "dtype: int64"
      ]
     },
     "execution_count": 32,
     "metadata": {},
     "output_type": "execute_result"
    }
   ],
   "source": [
    "x"
   ]
  },
  {
   "cell_type": "code",
   "execution_count": 33,
   "id": "b88a545d",
   "metadata": {},
   "outputs": [
    {
     "data": {
      "text/plain": [
       "<AxesSubplot:xlabel='institute_type'>"
      ]
     },
     "execution_count": 33,
     "metadata": {},
     "output_type": "execute_result"
    },
    {
     "data": {
      "image/png": "[encoded data removed]",
      "text/plain": [
       "<Figure size 432x288 with 1 Axes>"
      ]
     },
     "metadata": {
      "needs_background": "light"
     },
     "output_type": "display_data"
    }
   ],
   "source": [
    "x.plot(kind='line')"
   ]
  },
  {
   "cell_type": "code",
   "execution_count": 34,
   "id": "264e8778",
   "metadata": {},
   "outputs": [
    {
     "ename": "KeyError",
     "evalue": "'Embarked'",
     "output_type": "error",
     "traceback": [
      "\u001b[1;31m---------------------------------------------------------------------------\u001b[0m",
      "\u001b[1;31mKeyError\u001b[0m                                  Traceback (most recent call last)",
      "\u001b[1;32mC:\\ProgramData\\Anaconda3\\lib\\site-packages\\pandas\\core\\indexes\\base.py\u001b[0m in \u001b[0;36mget_loc\u001b[1;34m(self, key, method, tolerance)\u001b[0m\n\u001b[0;32m   3079\u001b[0m             \u001b[1;32mtry\u001b[0m\u001b[1;33m:\u001b[0m\u001b[1;33m\u001b[0m\u001b[1;33m\u001b[0m\u001b[0m\n\u001b[1;32m-> 3080\u001b[1;33m                 \u001b[1;32mreturn\u001b[0m \u001b[0mself\u001b[0m\u001b[1;33m.\u001b[0m\u001b[0m_engine\u001b[0m\u001b[1;33m.\u001b[0m\u001b[0mget_loc\u001b[0m\u001b[1;33m(\u001b[0m\u001b[0mcasted_key\u001b[0m\u001b[1;33m)\u001b[0m\u001b[1;33m\u001b[0m\u001b[1;33m\u001b[0m\u001b[0m\n\u001b[0m\u001b[0;32m   3081\u001b[0m             \u001b[1;32mexcept\u001b[0m \u001b[0mKeyError\u001b[0m \u001b[1;32mas\u001b[0m \u001b[0merr\u001b[0m\u001b[1;33m:\u001b[0m\u001b[1;33m\u001b[0m\u001b[1;33m\u001b[0m\u001b[0m\n",
      "\u001b[1;32mpandas\\_libs\\index.pyx\u001b[0m in \u001b[0;36mpandas._libs.index.IndexEngine.get_loc\u001b[1;34m()\u001b[0m\n",
      "\u001b[1;32mpandas\\_libs\\index.pyx\u001b[0m in \u001b[0;36mpandas._libs.index.IndexEngine.get_loc\u001b[1;34m()\u001b[0m\n",
      "\u001b[1;32mpandas\\_libs\\hashtable_class_helper.pxi\u001b[0m in \u001b[0;36mpandas._libs.hashtable.PyObjectHashTable.get_item\u001b[1;34m()\u001b[0m\n",
      "\u001b[1;32mpandas\\_libs\\hashtable_class_helper.pxi\u001b[0m in \u001b[0;36mpandas._libs.hashtable.PyObjectHashTable.get_item\u001b[1;34m()\u001b[0m\n",
      "\u001b[1;31mKeyError\u001b[0m: 'Embarked'",
      "\nThe above exception was the direct cause of the following exception:\n",
      "\u001b[1;31mKeyError\u001b[0m                                  Traceback (most recent call last)",
      "\u001b[1;32m<ipython-input-34-b729d026aafd>\u001b[0m in \u001b[0;36m<module>\u001b[1;34m\u001b[0m\n\u001b[1;32m----> 1\u001b[1;33m \u001b[0mmax_min_pass_count\u001b[0m\u001b[1;33m=\u001b[0m\u001b[0mdf\u001b[0m\u001b[1;33m[\u001b[0m\u001b[1;34m'Embarked'\u001b[0m\u001b[1;33m]\u001b[0m\u001b[1;33m.\u001b[0m\u001b[0mvalue_counts\u001b[0m\u001b[1;33m(\u001b[0m\u001b[1;33m)\u001b[0m\u001b[1;33m\u001b[0m\u001b[1;33m\u001b[0m\u001b[0m\n\u001b[0m",
      "\u001b[1;32mC:\\ProgramData\\Anaconda3\\lib\\site-packages\\pandas\\core\\frame.py\u001b[0m in \u001b[0;36m__getitem__\u001b[1;34m(self, key)\u001b[0m\n\u001b[0;32m   3022\u001b[0m             \u001b[1;32mif\u001b[0m \u001b[0mself\u001b[0m\u001b[1;33m.\u001b[0m\u001b[0mcolumns\u001b[0m\u001b[1;33m.\u001b[0m\u001b[0mnlevels\u001b[0m \u001b[1;33m>\u001b[0m \u001b[1;36m1\u001b[0m\u001b[1;33m:\u001b[0m\u001b[1;33m\u001b[0m\u001b[1;33m\u001b[0m\u001b[0m\n\u001b[0;32m   3023\u001b[0m                 \u001b[1;32mreturn\u001b[0m \u001b[0mself\u001b[0m\u001b[1;33m.\u001b[0m\u001b[0m_getitem_multilevel\u001b[0m\u001b[1;33m(\u001b[0m\u001b[0mkey\u001b[0m\u001b[1;33m)\u001b[0m\u001b[1;33m\u001b[0m\u001b[1;33m\u001b[0m\u001b[0m\n\u001b[1;32m-> 3024\u001b[1;33m             \u001b[0mindexer\u001b[0m \u001b[1;33m=\u001b[0m \u001b[0mself\u001b[0m\u001b[1;33m.\u001b[0m\u001b[0mcolumns\u001b[0m\u001b[1;33m.\u001b[0m\u001b[0mget_loc\u001b[0m\u001b[1;33m(\u001b[0m\u001b[0mkey\u001b[0m\u001b[1;33m)\u001b[0m\u001b[1;33m\u001b[0m\u001b[1;33m\u001b[0m\u001b[0m\n\u001b[0m\u001b[0;32m   3025\u001b[0m             \u001b[1;32mif\u001b[0m \u001b[0mis_integer\u001b[0m\u001b[1;33m(\u001b[0m\u001b[0mindexer\u001b[0m\u001b[1;33m)\u001b[0m\u001b[1;33m:\u001b[0m\u001b[1;33m\u001b[0m\u001b[1;33m\u001b[0m\u001b[0m\n\u001b[0;32m   3026\u001b[0m                 \u001b[0mindexer\u001b[0m \u001b[1;33m=\u001b[0m \u001b[1;33m[\u001b[0m\u001b[0mindexer\u001b[0m\u001b[1;33m]\u001b[0m\u001b[1;33m\u001b[0m\u001b[1;33m\u001b[0m\u001b[0m\n",
      "\u001b[1;32mC:\\ProgramData\\Anaconda3\\lib\\site-packages\\pandas\\core\\indexes\\base.py\u001b[0m in \u001b[0;36mget_loc\u001b[1;34m(self, key, method, tolerance)\u001b[0m\n\u001b[0;32m   3080\u001b[0m                 \u001b[1;32mreturn\u001b[0m \u001b[0mself\u001b[0m\u001b[1;33m.\u001b[0m\u001b[0m_engine\u001b[0m\u001b[1;33m.\u001b[0m\u001b[0mget_loc\u001b[0m\u001b[1;33m(\u001b[0m\u001b[0mcasted_key\u001b[0m\u001b[1;33m)\u001b[0m\u001b[1;33m\u001b[0m\u001b[1;33m\u001b[0m\u001b[0m\n\u001b[0;32m   3081\u001b[0m             \u001b[1;32mexcept\u001b[0m \u001b[0mKeyError\u001b[0m \u001b[1;32mas\u001b[0m \u001b[0merr\u001b[0m\u001b[1;33m:\u001b[0m\u001b[1;33m\u001b[0m\u001b[1;33m\u001b[0m\u001b[0m\n\u001b[1;32m-> 3082\u001b[1;33m                 \u001b[1;32mraise\u001b[0m \u001b[0mKeyError\u001b[0m\u001b[1;33m(\u001b[0m\u001b[0mkey\u001b[0m\u001b[1;33m)\u001b[0m \u001b[1;32mfrom\u001b[0m \u001b[0merr\u001b[0m\u001b[1;33m\u001b[0m\u001b[1;33m\u001b[0m\u001b[0m\n\u001b[0m\u001b[0;32m   3083\u001b[0m \u001b[1;33m\u001b[0m\u001b[0m\n\u001b[0;32m   3084\u001b[0m         \u001b[1;32mif\u001b[0m \u001b[0mtolerance\u001b[0m \u001b[1;32mis\u001b[0m \u001b[1;32mnot\u001b[0m \u001b[1;32mNone\u001b[0m\u001b[1;33m:\u001b[0m\u001b[1;33m\u001b[0m\u001b[1;33m\u001b[0m\u001b[0m\n",
      "\u001b[1;31mKeyError\u001b[0m: 'Embarked'"
     ]
    }
   ],
   "source": [
    "max_min_pass_count=df['Embarked'].value_counts()"
   ]
  },
  {
   "cell_type": "code",
   "execution_count": 35,
   "id": "e3af9b70",
   "metadata": {},
   "outputs": [
    {
     "ename": "NameError",
     "evalue": "name 'institute_type' is not defined",
     "output_type": "error",
     "traceback": [
      "\u001b[1;31m---------------------------------------------------------------------------\u001b[0m",
      "\u001b[1;31mNameError\u001b[0m                                 Traceback (most recent call last)",
      "\u001b[1;32m<ipython-input-35-3c2d61d673ea>\u001b[0m in \u001b[0;36m<module>\u001b[1;34m\u001b[0m\n\u001b[1;32m----> 1\u001b[1;33m \u001b[0mplt\u001b[0m\u001b[1;33m.\u001b[0m\u001b[0mpie\u001b[0m\u001b[1;33m(\u001b[0m\u001b[0minstitute_type\u001b[0m\u001b[1;33m,\u001b[0m\u001b[0mlabels\u001b[0m \u001b[1;33m=\u001b[0m \u001b[0mNIT\u001b[0m\u001b[1;33m)\u001b[0m\u001b[1;33m\u001b[0m\u001b[1;33m\u001b[0m\u001b[0m\n\u001b[0m\u001b[0;32m      2\u001b[0m \u001b[0mplt\u001b[0m\u001b[1;33m.\u001b[0m\u001b[0mshow\u001b[0m\u001b[1;33m(\u001b[0m\u001b[1;33m)\u001b[0m\u001b[1;33m\u001b[0m\u001b[1;33m\u001b[0m\u001b[0m\n",
      "\u001b[1;31mNameError\u001b[0m: name 'institute_type' is not defined"
     ]
    }
   ],
   "source": [
    "plt.pie(institute_type,labels = NIT)\n",
    "plt.show()"
   ]
  },
  {
   "cell_type": "code",
   "execution_count": 36,
   "id": "4e12ef6b",
   "metadata": {},
   "outputs": [
    {
     "ename": "NameError",
     "evalue": "name 'max_min_pass_count' is not defined",
     "output_type": "error",
     "traceback": [
      "\u001b[1;31m---------------------------------------------------------------------------\u001b[0m",
      "\u001b[1;31mNameError\u001b[0m                                 Traceback (most recent call last)",
      "\u001b[1;32m<ipython-input-36-87e9619e03e1>\u001b[0m in \u001b[0;36m<module>\u001b[1;34m\u001b[0m\n\u001b[1;32m----> 1\u001b[1;33m \u001b[0mmax_min_pass_count\u001b[0m\u001b[1;33m.\u001b[0m\u001b[0mplot\u001b[0m\u001b[1;33m(\u001b[0m\u001b[0mkind\u001b[0m\u001b[1;33m=\u001b[0m\u001b[1;34m'pie'\u001b[0m\u001b[1;33m)\u001b[0m\u001b[1;33m\u001b[0m\u001b[1;33m\u001b[0m\u001b[0m\n\u001b[0m",
      "\u001b[1;31mNameError\u001b[0m: name 'max_min_pass_count' is not defined"
     ]
    }
   ],
   "source": [
    "max_min_pass_count.plot(kind='pie')"
   ]
  },
  {
   "cell_type": "code",
   "execution_count": null,
   "id": "c8f3c986",
   "metadata": {},
   "outputs": [],
   "source": []
  }
 ],
 "metadata": {
  "kernelspec": {
   "display_name": "Python 3",
   "language": "python",
   "name": "python3"
  },
  "language_info": {
   "codemirror_mode": {
    "name": "ipython",
    "version": 3
   },
   "file_extension": ".py",
   "mimetype": "text/x-python",
   "name": "python",
   "nbconvert_exporter": "python",
   "pygments_lexer": "ipython3",
   "version": "3.8.8"
  }
 },
 "nbformat": 4,
 "nbformat_minor": 5
}
